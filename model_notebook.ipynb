{
 "cells": [
  {
   "cell_type": "code",
   "execution_count": 23,
   "metadata": {},
   "outputs": [],
   "source": [
    "import torch\n",
    "import torchvision\n",
    "import torchvision.transforms as transforms\n",
    "import matplotlib.pyplot as plt\n",
    "import numpy as np\n",
    "import random"
   ]
  },
  {
   "cell_type": "code",
   "execution_count": 53,
   "metadata": {},
   "outputs": [],
   "source": [
    "# Load the train dataset for mean calculation\n",
    "train_dataset = torchvision.datasets.MNIST(root='./data', train=True, download=True, transform=transforms.ToTensor())"
   ]
  },
  {
   "cell_type": "code",
   "execution_count": 57,
   "metadata": {},
   "outputs": [
    {
     "data": {
      "text/plain": [
       "(tensor(0.1307), tensor(0.3081))"
      ]
     },
     "execution_count": 57,
     "metadata": {},
     "output_type": "execute_result"
    }
   ],
   "source": [
    "# compute mean and std of the train dataset\n",
    "mean = train_dataset.data.float().mean() / 255\n",
    "std = train_dataset.data.float().std() / 255\n",
    "\n",
    "mean, std"
   ]
  },
  {
   "cell_type": "code",
   "execution_count": 55,
   "metadata": {},
   "outputs": [],
   "source": [
    "# define transformation to be applied to the images\n",
    "transform = transforms.Compose([\n",
    "    transforms.ToTensor(),\n",
    "    transforms.Normalize(mean=(mean,), std=(std,))\n",
    "])\n",
    "\n",
    "# Load the train and test datasets with normalization. these normalizations are applied to the images when they are loaded\n",
    "train_dataset = torchvision.datasets.MNIST(root='./data', train=True, download=True, transform=transform)\n",
    "test_dataset = torchvision.datasets.MNIST(root='./data', train=False, download=True, transform=transform)\n"
   ]
  },
  {
   "cell_type": "code",
   "execution_count": 64,
   "metadata": {},
   "outputs": [
    {
     "data": {
      "text/plain": [
       "(tensor(-5.6966e-08), tensor(1.0000))"
      ]
     },
     "execution_count": 64,
     "metadata": {},
     "output_type": "execute_result"
    }
   ],
   "source": [
    "# Compute the mean and standard deviation of the normalized dataset as a sanity check\n",
    "train_loader = torch.utils.data.DataLoader(train_dataset, batch_size=len(train_dataset), shuffle=False)\n",
    "data = next(iter(train_loader))\n",
    "\n",
    "# data[0] is the tensor containing all the images\n",
    "# data[1] is the tensor containing all the labels\n",
    "mean = data[0].mean()\n",
    "std = data[0].std()\n",
    "\n",
    "mean, std"
   ]
  },
  {
   "cell_type": "code",
   "execution_count": 96,
   "metadata": {},
   "outputs": [
    {
     "data": {
      "image/png": "[encoded data removed]",
      "text/plain": [
       "<Figure size 600x600 with 9 Axes>"
      ]
     },
     "metadata": {},
     "output_type": "display_data"
    }
   ],
   "source": [
    "# Create a DataLoader to load the data in batches\n",
    "test_loader = torch.utils.data.DataLoader(test_dataset, batch_size=9, shuffle=True)\n",
    "\n",
    "# Get a batch of images from the DataLoader\n",
    "images, labels = next(iter(test_loader))\n",
    "\n",
    "# Create a grid of images and display them\n",
    "fig, axs = plt.subplots(3, 3, figsize=(6, 6))\n",
    "axs = axs.flatten()\n",
    "\n",
    "for i, image in enumerate(images):\n",
    "    # Convert the tensor image to a numpy array and transpose it\n",
    "    image = np.transpose(image.numpy(), (1, 2, 0))\n",
    "\n",
    "    # Display the image on the corresponding subplot\n",
    "    axs[i].imshow(image[:, :, 0], cmap='gray')\n",
    "    axs[i].axis('off')\n",
    "\n",
    "# Show the plot\n",
    "plt.show()"
   ]
  },
  {
   "cell_type": "code",
   "execution_count": 97,
   "metadata": {},
   "outputs": [],
   "source": [
    "batch_size = 64\n",
    "\n",
    "train_loader = torch.utils.data.DataLoader(train_dataset, batch_size=batch_size, shuffle=False)\n",
    "test_loader = torch.utils.data.DataLoader(train_dataset, batch_size=batch_size, shuffle=False)"
   ]
  },
  {
   "cell_type": "code",
   "execution_count": 99,
   "metadata": {},
   "outputs": [
    {
     "name": "stdout",
     "output_type": "stream",
     "text": [
      "[1,   100] loss: 1.089\n",
      "[1,   200] loss: 0.423\n",
      "[1,   300] loss: 0.333\n",
      "[1,   400] loss: 0.255\n",
      "[1,   500] loss: 0.251\n",
      "[1,   600] loss: 0.220\n",
      "[1,   700] loss: 0.217\n",
      "[1,   800] loss: 0.204\n",
      "[1,   900] loss: 0.163\n",
      "[2,   100] loss: 0.138\n",
      "[2,   200] loss: 0.151\n",
      "[2,   300] loss: 0.135\n",
      "[2,   400] loss: 0.125\n",
      "[2,   500] loss: 0.129\n",
      "[2,   600] loss: 0.126\n",
      "[2,   700] loss: 0.124\n",
      "[2,   800] loss: 0.125\n",
      "[2,   900] loss: 0.100\n",
      "[3,   100] loss: 0.086\n",
      "[3,   200] loss: 0.099\n",
      "[3,   300] loss: 0.086\n",
      "[3,   400] loss: 0.083\n",
      "[3,   500] loss: 0.083\n",
      "[3,   600] loss: 0.086\n",
      "[3,   700] loss: 0.086\n",
      "[3,   800] loss: 0.090\n",
      "[3,   900] loss: 0.070\n",
      "[4,   100] loss: 0.061\n",
      "[4,   200] loss: 0.067\n",
      "[4,   300] loss: 0.063\n",
      "[4,   400] loss: 0.057\n",
      "[4,   500] loss: 0.059\n",
      "[4,   600] loss: 0.063\n",
      "[4,   700] loss: 0.064\n",
      "[4,   800] loss: 0.065\n",
      "[4,   900] loss: 0.052\n",
      "[5,   100] loss: 0.044\n",
      "[5,   200] loss: 0.049\n",
      "[5,   300] loss: 0.045\n",
      "[5,   400] loss: 0.045\n",
      "[5,   500] loss: 0.046\n",
      "[5,   600] loss: 0.047\n",
      "[5,   700] loss: 0.046\n",
      "[5,   800] loss: 0.045\n",
      "[5,   900] loss: 0.038\n",
      "Accuracy of the network on the 10000 test images: 98 %\n"
     ]
    }
   ],
   "source": [
    "import torch.nn as nn\n",
    "import torch.optim as optim\n",
    "\n",
    "# Define the neural network architecture\n",
    "class Net(nn.Module):\n",
    "    def __init__(self):\n",
    "        super(Net, self).__init__()\n",
    "        self.fc1 = nn.Linear(784, 128)\n",
    "        self.fc2 = nn.Linear(128, 64)\n",
    "        self.fc3 = nn.Linear(64, 10)\n",
    "\n",
    "    def forward(self, x):\n",
    "        x = x.view(-1, 784)\n",
    "        x = nn.functional.relu(self.fc1(x))\n",
    "        x = nn.functional.relu(self.fc2(x))\n",
    "        x = self.fc3(x)\n",
    "        return x\n",
    "\n",
    "# Initialize the neural network and other training parameters\n",
    "net = Net()\n",
    "criterion = nn.CrossEntropyLoss()\n",
    "optimizer = optim.SGD(net.parameters(), lr=0.01, momentum=0.9)\n",
    "num_epochs = 5\n",
    "\n",
    "# Train the neural network\n",
    "for epoch in range(num_epochs):\n",
    "    running_loss = 0.0\n",
    "    for i, data in enumerate(train_loader, 0):\n",
    "        inputs, labels = data\n",
    "        optimizer.zero_grad()\n",
    "        outputs = net(inputs)\n",
    "        loss = criterion(outputs, labels)\n",
    "        loss.backward()\n",
    "        optimizer.step()\n",
    "        running_loss += loss.item()\n",
    "        if i % 100 == 99:\n",
    "            print('[%d, %5d] loss: %.3f' % (epoch + 1, i + 1, running_loss / 100))\n",
    "            running_loss = 0.0\n",
    "\n",
    "# Evaluate the neural network on the test data\n",
    "correct = 0\n",
    "total = 0\n",
    "with torch.no_grad():\n",
    "    for data in test_loader:\n",
    "        images, labels = data\n",
    "        outputs = net(images)\n",
    "        _, predicted = torch.max(outputs.data, 1)\n",
    "        total += labels.size(0)\n",
    "        correct += (predicted == labels).sum().item()\n",
    "\n",
    "print('Accuracy of the network on the 10000 test images: %d %%' % (100 * correct / total))\n"
   ]
  }
 ],
 "metadata": {
  "kernelspec": {
   "display_name": "torchenv",
   "language": "python",
   "name": "python3"
  },
  "language_info": {
   "codemirror_mode": {
    "name": "ipython",
    "version": 3
   },
   "file_extension": ".py",
   "mimetype": "text/x-python",
   "name": "python",
   "nbconvert_exporter": "python",
   "pygments_lexer": "ipython3",
   "version": "3.11.3"
  },
  "orig_nbformat": 4
 },
 "nbformat": 4,
 "nbformat_minor": 2
}
