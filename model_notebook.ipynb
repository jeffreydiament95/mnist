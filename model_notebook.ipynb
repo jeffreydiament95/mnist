{
 "cells": [
  {
   "cell_type": "code",
   "execution_count": 23,
   "metadata": {},
   "outputs": [],
   "source": [
    "import torch\n",
    "import torchvision\n",
    "import torchvision.transforms as transforms\n",
    "import matplotlib.pyplot as plt\n",
    "import numpy as np\n",
    "import random"
   ]
  },
  {
   "cell_type": "code",
   "execution_count": 53,
   "metadata": {},
   "outputs": [],
   "source": [
    "# Load the train dataset for mean calculation\n",
    "train_dataset = torchvision.datasets.MNIST(root='./data', train=True, download=True, transform=transforms.ToTensor())"
   ]
  },
  {
   "cell_type": "code",
   "execution_count": 57,
   "metadata": {},
   "outputs": [
    {
     "data": {
      "text/plain": [
       "(tensor(0.1307), tensor(0.3081))"
      ]
     },
     "execution_count": 57,
     "metadata": {},
     "output_type": "execute_result"
    }
   ],
   "source": [
    "# compute mean and std of the train dataset\n",
    "mean = train_dataset.data.float().mean() / 255\n",
    "std = train_dataset.data.float().std() / 255\n",
    "\n",
    "mean, std"
   ]
  },
  {
   "cell_type": "code",
   "execution_count": 55,
   "metadata": {},
   "outputs": [],
   "source": [
    "# define transformation to be applied to the images\n",
    "transform = transforms.Compose([\n",
    "    transforms.ToTensor(),\n",
    "    transforms.Normalize(mean=(mean,), std=(std,))\n",
    "])\n",
    "\n",
    "# Load the train and test datasets with normalization. these normalizations are applied to the images when they are loaded\n",
    "train_dataset = torchvision.datasets.MNIST(root='./data', train=True, download=True, transform=transform)\n",
    "test_dataset = torchvision.datasets.MNIST(root='./data', train=False, download=True, transform=transform)\n"
   ]
  },
  {
   "cell_type": "code",
   "execution_count": 64,
   "metadata": {},
   "outputs": [
    {
     "data": {
      "text/plain": [
       "(tensor(-5.6966e-08), tensor(1.0000))"
      ]
     },
     "execution_count": 64,
     "metadata": {},
     "output_type": "execute_result"
    }
   ],
   "source": [
    "# Compute the mean and standard deviation of the normalized dataset as a sanity check\n",
    "train_loader = torch.utils.data.DataLoader(train_dataset, batch_size=len(train_dataset), shuffle=False)\n",
    "data = next(iter(train_loader))\n",
    "\n",
    "# data[0] is the tensor containing all the images\n",
    "# data[1] is the tensor containing all the labels\n",
    "mean = data[0].mean()\n",
    "std = data[0].std()\n",
    "\n",
    "mean, std"
   ]
  },
  {
   "cell_type": "code",
   "execution_count": 79,
   "metadata": {},
   "outputs": [
    {
     "data": {
      "image/png": "[encoded data removed]",
      "text/plain": [
       "<Figure size 600x600 with 9 Axes>"
      ]
     },
     "metadata": {},
     "output_type": "display_data"
    }
   ],
   "source": [
    "# Create a DataLoader to load the data in batches\n",
    "test_loader = torch.utils.data.DataLoader(test_dataset, batch_size=9, shuffle=True)\n",
    "\n",
    "# Get a batch of images from the DataLoader\n",
    "images, labels = next(iter(test_loader))\n",
    "\n",
    "# Create a grid of images and display them\n",
    "fig, axs = plt.subplots(3, 3, figsize=(6, 6))\n",
    "axs = axs.flatten()\n",
    "\n",
    "for i, image in enumerate(images):\n",
    "    # Convert the tensor image to a numpy array and transpose it\n",
    "    image = np.transpose(image.numpy(), (1, 2, 0))\n",
    "\n",
    "    # Display the image on the corresponding subplot\n",
    "    axs[i].imshow(image[:, :, 0], cmap='gray')\n",
    "    axs[i].axis('off')\n",
    "\n",
    "# Show the plot\n",
    "plt.show()"
   ]
  }
 ],
 "metadata": {
  "kernelspec": {
   "display_name": "torchenv",
   "language": "python",
   "name": "python3"
  },
  "language_info": {
   "codemirror_mode": {
    "name": "ipython",
    "version": 3
   },
   "file_extension": ".py",
   "mimetype": "text/x-python",
   "name": "python",
   "nbconvert_exporter": "python",
   "pygments_lexer": "ipython3",
   "version": "3.11.3"
  },
  "orig_nbformat": 4
 },
 "nbformat": 4,
 "nbformat_minor": 2
}
